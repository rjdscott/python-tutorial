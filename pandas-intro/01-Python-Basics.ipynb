{
 "cells": [
  {
   "cell_type": "markdown",
   "id": "e897a886",
   "metadata": {},
   "source": [
    "# 01 - Python Basics\n",
    "\n",
    "Python is a great programming language for both new and veteran programmers. I wont go too in depth with the basics here since there is a plethora of great material online but thought i'd share some 101 things before going into pandas.\n",
    "\n",
    "**What we will cover:**\n",
    "1. Variables\n",
    "2. Conditional statements (if, elif, else)\n",
    "3. Looping (For loop, while loop)\n",
    "4. Functions\n",
    "5. Putting it all together\n",
    "\n",
    "## Part 1 - Variables\n",
    "\n",
    "the most commonly used data structures are integers, strings, lists and dictionaries"
   ]
  },
  {
   "cell_type": "code",
   "execution_count": 1,
   "id": "bb8d50a7",
   "metadata": {},
   "outputs": [],
   "source": [
    "my_num = 10\n",
    "my_string = 'Hello'\n",
    "my_list = [1,2,3,'rob']\n",
    "my_dict = {'name':'joe','address':'123 fake street','age': 106}"
   ]
  },
  {
   "cell_type": "code",
   "execution_count": 2,
   "id": "917f3fdb",
   "metadata": {},
   "outputs": [
    {
     "name": "stdout",
     "output_type": "stream",
     "text": [
      "10\n"
     ]
    }
   ],
   "source": [
    "print(my_num)"
   ]
  },
  {
   "cell_type": "code",
   "execution_count": 3,
   "id": "05d0d75b",
   "metadata": {},
   "outputs": [
    {
     "name": "stdout",
     "output_type": "stream",
     "text": [
      "[1, 2, 3, 'rob']\n"
     ]
    }
   ],
   "source": [
    "print(my_list)"
   ]
  },
  {
   "cell_type": "code",
   "execution_count": 4,
   "id": "ebcbee32",
   "metadata": {},
   "outputs": [
    {
     "data": {
      "text/plain": [
       "list"
      ]
     },
     "execution_count": 4,
     "metadata": {},
     "output_type": "execute_result"
    }
   ],
   "source": [
    "type(my_list)"
   ]
  },
  {
   "cell_type": "code",
   "execution_count": 5,
   "id": "aa3dcafe",
   "metadata": {},
   "outputs": [
    {
     "data": {
      "text/plain": [
       "4"
      ]
     },
     "execution_count": 5,
     "metadata": {},
     "output_type": "execute_result"
    }
   ],
   "source": [
    "len(my_list)"
   ]
  },
  {
   "cell_type": "markdown",
   "id": "c3c70010",
   "metadata": {},
   "source": [
    "## Part 2 - Conditional statements\n",
    "### 2.1 - IF statements\n",
    "Only trigger when the condition is true"
   ]
  },
  {
   "cell_type": "code",
   "execution_count": 6,
   "id": "3087c353",
   "metadata": {},
   "outputs": [
    {
     "name": "stdout",
     "output_type": "stream",
     "text": [
      "my_num is less than 100\n"
     ]
    }
   ],
   "source": [
    "if my_num < 100:\n",
    "    print('my_num is less than 100')"
   ]
  },
  {
   "cell_type": "code",
   "execution_count": 7,
   "id": "1a1bc431",
   "metadata": {},
   "outputs": [],
   "source": [
    "if my_num > 20:\n",
    "    print('my_num is greater than 20')"
   ]
  },
  {
   "cell_type": "markdown",
   "id": "25bdf110",
   "metadata": {},
   "source": [
    "### 2.2 - IF ELSE statements\n",
    "\n",
    "If condition is true do something, all other exceptions are caught under the else statement"
   ]
  },
  {
   "cell_type": "code",
   "execution_count": 8,
   "id": "cbb23f3b",
   "metadata": {},
   "outputs": [
    {
     "name": "stdout",
     "output_type": "stream",
     "text": [
      "rob is in the list\n"
     ]
    }
   ],
   "source": [
    "if 'rob' in my_list:\n",
    "    print('rob is in the list')\n",
    "else:\n",
    "    print('rob is not in the list')"
   ]
  },
  {
   "cell_type": "markdown",
   "id": "cdb17cb3",
   "metadata": {},
   "source": [
    "### 2.3 - IF ELIF ELSE statements"
   ]
  },
  {
   "cell_type": "code",
   "execution_count": 9,
   "id": "8f7a1c8d",
   "metadata": {},
   "outputs": [
    {
     "name": "stdout",
     "output_type": "stream",
     "text": [
      "I dont know who is in the list\n"
     ]
    }
   ],
   "source": [
    "if 'sally' in my_list:\n",
    "    print('sally is in the list!')\n",
    "elif 'jim' in my_list:\n",
    "    print('jim is in the list!')\n",
    "else:\n",
    "    print('I dont know who is in the list')"
   ]
  },
  {
   "cell_type": "markdown",
   "id": "bf869747",
   "metadata": {},
   "source": [
    "## Part 3 - Looping\n",
    "\n",
    "### 3.1 For loops\n",
    "\n",
    "For loops are good for when you have a list or a dictionary of elements and would would like to loop through each element and perform an action. Another reason to use a for loop is if you are want to loop a specified amount of time. ie 10 times."
   ]
  },
  {
   "cell_type": "code",
   "execution_count": 10,
   "id": "f9c41095",
   "metadata": {},
   "outputs": [
    {
     "name": "stdout",
     "output_type": "stream",
     "text": [
      "0\n",
      "1\n",
      "2\n",
      "3\n",
      "4\n"
     ]
    }
   ],
   "source": [
    "for num in range(5):\n",
    "    print(num)"
   ]
  },
  {
   "cell_type": "code",
   "execution_count": 11,
   "id": "5ef0f8e7",
   "metadata": {},
   "outputs": [
    {
     "name": "stdout",
     "output_type": "stream",
     "text": [
      "1\n",
      "2\n",
      "3\n",
      "rob\n"
     ]
    }
   ],
   "source": [
    "for item in my_list:\n",
    "    print(item)"
   ]
  },
  {
   "cell_type": "markdown",
   "id": "9ce9d81b",
   "metadata": {},
   "source": [
    "## 3.2 While loops\n",
    "While loops are similar to for loops but will continue to loop while a condition is true. These are less common but can be used to acheive similar results as the for loop.\n",
    "\n",
    "Note: these can be dangerous as sometimes you can enter an infinite loop by accident by simily allowing the condition to never be false."
   ]
  },
  {
   "cell_type": "code",
   "execution_count": 12,
   "id": "f871945d",
   "metadata": {},
   "outputs": [
    {
     "name": "stdout",
     "output_type": "stream",
     "text": [
      "5\n",
      "6\n",
      "7\n",
      "8\n",
      "9\n"
     ]
    }
   ],
   "source": [
    "num = 5\n",
    "while num < my_num:\n",
    "    print(num)\n",
    "    num += 1"
   ]
  },
  {
   "cell_type": "markdown",
   "id": "4aa3af36",
   "metadata": {},
   "source": [
    "## Part 4 - Functions\n",
    "\n",
    "Functions are great for creating custom functionality and making code more modular and reusable. In the following example we will create a basic function that takes two numbers and simply adds them. \n",
    "\n",
    "To define a function you need to use the `def` to declare the function, you need to give it a name, specify the variables it takes and `return` something."
   ]
  },
  {
   "cell_type": "code",
   "execution_count": 13,
   "id": "86bef381",
   "metadata": {},
   "outputs": [],
   "source": [
    "def adder(a, b):\n",
    "    return a + b"
   ]
  },
  {
   "cell_type": "markdown",
   "id": "fc80fee3",
   "metadata": {},
   "source": [
    "To use the function, you can simply use the name given after the `def` keyword"
   ]
  },
  {
   "cell_type": "code",
   "execution_count": 14,
   "id": "39081f2c",
   "metadata": {},
   "outputs": [
    {
     "data": {
      "text/plain": [
       "579"
      ]
     },
     "execution_count": 14,
     "metadata": {},
     "output_type": "execute_result"
    }
   ],
   "source": [
    "adder(123, 456)"
   ]
  },
  {
   "cell_type": "markdown",
   "id": "a517a411",
   "metadata": {},
   "source": [
    "## Part 5 - Putting it all together\n",
    "\n",
    "In the following exaple we will use all the above to create a basic program that will take a list of numbers, and return all those that are even."
   ]
  },
  {
   "cell_type": "code",
   "execution_count": 15,
   "id": "4e40af90",
   "metadata": {},
   "outputs": [],
   "source": [
    "my_nums = [1, 2, 3, 4, 6, 20, 27, 80, 121 ,199, 222]"
   ]
  },
  {
   "cell_type": "code",
   "execution_count": 16,
   "id": "9ac54838",
   "metadata": {},
   "outputs": [],
   "source": [
    "# create simple function to return whether a number is even\n",
    "def is_even(num):\n",
    "    if num % 2 == 0:\n",
    "        return True\n",
    "    else:\n",
    "        return False"
   ]
  },
  {
   "cell_type": "code",
   "execution_count": 17,
   "id": "5503f533",
   "metadata": {},
   "outputs": [
    {
     "data": {
      "text/plain": [
       "True"
      ]
     },
     "execution_count": 17,
     "metadata": {},
     "output_type": "execute_result"
    }
   ],
   "source": [
    "is_even(8)"
   ]
  },
  {
   "cell_type": "code",
   "execution_count": 18,
   "id": "2b049cd4",
   "metadata": {},
   "outputs": [],
   "source": [
    "# create empty list\n",
    "my_even_nums = []\n",
    "\n",
    "# loop through nums\n",
    "for num in my_nums:\n",
    "    \n",
    "    # if statement that uses our function to check if num is even\n",
    "    if is_even(num):\n",
    "        \n",
    "        # append number to my_even_num list\n",
    "        my_even_nums.append(num)\n"
   ]
  },
  {
   "cell_type": "code",
   "execution_count": 19,
   "id": "77379ceb",
   "metadata": {},
   "outputs": [
    {
     "name": "stdout",
     "output_type": "stream",
     "text": [
      "all nums:   [1, 2, 3, 4, 6, 20, 27, 80, 121, 199, 222]\n",
      "even nums:  [2, 4, 6, 20, 80, 222]\n"
     ]
    }
   ],
   "source": [
    "print('all nums:  ', my_nums)\n",
    "print('even nums: ', my_even_nums)"
   ]
  }
 ],
 "metadata": {
  "kernelspec": {
   "display_name": "Python 3",
   "language": "python",
   "name": "python3"
  },
  "language_info": {
   "codemirror_mode": {
    "name": "ipython",
    "version": 3
   },
   "file_extension": ".py",
   "mimetype": "text/x-python",
   "name": "python",
   "nbconvert_exporter": "python",
   "pygments_lexer": "ipython3",
   "version": "3.8.2"
  }
 },
 "nbformat": 4,
 "nbformat_minor": 5
}
