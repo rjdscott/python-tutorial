{
 "cells": [
  {
   "cell_type": "code",
   "execution_count": 2,
   "id": "97ebeccf",
   "metadata": {},
   "outputs": [],
   "source": [
    "name = \"annabel\""
   ]
  },
  {
   "cell_type": "code",
   "execution_count": 4,
   "id": "cc7eda79",
   "metadata": {},
   "outputs": [
    {
     "name": "stdout",
     "output_type": "stream",
     "text": [
      "annabel\n"
     ]
    }
   ],
   "source": [
    "print(name)"
   ]
  },
  {
   "cell_type": "code",
   "execution_count": 5,
   "id": "3c7e6fae",
   "metadata": {},
   "outputs": [
    {
     "data": {
      "text/plain": [
       "7"
      ]
     },
     "execution_count": 5,
     "metadata": {},
     "output_type": "execute_result"
    }
   ],
   "source": [
    "len(name)"
   ]
  },
  {
   "cell_type": "code",
   "execution_count": 6,
   "id": "c4e756a2",
   "metadata": {},
   "outputs": [
    {
     "data": {
      "text/plain": [
       "'a'"
      ]
     },
     "execution_count": 6,
     "metadata": {},
     "output_type": "execute_result"
    }
   ],
   "source": [
    "name[0]"
   ]
  },
  {
   "cell_type": "code",
   "execution_count": 7,
   "id": "3de70da1",
   "metadata": {},
   "outputs": [],
   "source": [
    "num_animals = 100"
   ]
  },
  {
   "cell_type": "code",
   "execution_count": 8,
   "id": "f65ae733",
   "metadata": {},
   "outputs": [
    {
     "data": {
      "text/plain": [
       "100"
      ]
     },
     "execution_count": 8,
     "metadata": {},
     "output_type": "execute_result"
    }
   ],
   "source": [
    "num_animals"
   ]
  },
  {
   "cell_type": "code",
   "execution_count": 9,
   "id": "63daf6ee",
   "metadata": {},
   "outputs": [],
   "source": [
    "number_list = [1,2,3,4,5]"
   ]
  },
  {
   "cell_type": "code",
   "execution_count": 10,
   "id": "e4f93a37",
   "metadata": {},
   "outputs": [
    {
     "data": {
      "text/plain": [
       "[1, 2, 3, 4, 5]"
      ]
     },
     "execution_count": 10,
     "metadata": {},
     "output_type": "execute_result"
    }
   ],
   "source": [
    "number_list"
   ]
  },
  {
   "cell_type": "code",
   "execution_count": 11,
   "id": "6e493eaf",
   "metadata": {},
   "outputs": [],
   "source": [
    "list2d = [[1,2,3],[4,5,6]]"
   ]
  },
  {
   "cell_type": "code",
   "execution_count": 12,
   "id": "ca56db1c",
   "metadata": {},
   "outputs": [
    {
     "data": {
      "text/plain": [
       "[1, 2, 3]"
      ]
     },
     "execution_count": 12,
     "metadata": {},
     "output_type": "execute_result"
    }
   ],
   "source": [
    "list2d[0]"
   ]
  },
  {
   "cell_type": "code",
   "execution_count": 13,
   "id": "86fdb41e",
   "metadata": {},
   "outputs": [
    {
     "data": {
      "text/plain": [
       "3"
      ]
     },
     "execution_count": 13,
     "metadata": {},
     "output_type": "execute_result"
    }
   ],
   "source": [
    "list2d[0][-1]"
   ]
  },
  {
   "cell_type": "code",
   "execution_count": 14,
   "id": "639b48ce",
   "metadata": {},
   "outputs": [],
   "source": [
    "dict_nums = {'one':1, 'two':2, \"name\":\"annabel\"}"
   ]
  },
  {
   "cell_type": "code",
   "execution_count": 15,
   "id": "53cc90fc",
   "metadata": {},
   "outputs": [
    {
     "data": {
      "text/plain": [
       "{'one': 1, 'two': 2, 'name': 'annabel'}"
      ]
     },
     "execution_count": 15,
     "metadata": {},
     "output_type": "execute_result"
    }
   ],
   "source": [
    "dict_nums"
   ]
  },
  {
   "cell_type": "code",
   "execution_count": 21,
   "id": "c90588b1",
   "metadata": {},
   "outputs": [
    {
     "name": "stdout",
     "output_type": "stream",
     "text": [
      "105 is greater than 100\n"
     ]
    }
   ],
   "source": [
    "my_num = 105\n",
    "\n",
    "if my_num < 100 and my_num > 5:\n",
    "    print (f'{my_num} is less than 100 and greater than 5')\n",
    "elif my_num < 5:\n",
    "    print (f'{my_num} is less than 5')\n",
    "else:\n",
    "    print (f'{my_num} is greater than 100')"
   ]
  },
  {
   "cell_type": "code",
   "execution_count": 23,
   "id": "8f6acc00",
   "metadata": {},
   "outputs": [
    {
     "data": {
      "text/plain": [
       "['annabel', 'rob', 'rosie', 'john']"
      ]
     },
     "execution_count": 23,
     "metadata": {},
     "output_type": "execute_result"
    }
   ],
   "source": [
    "name_list = ['annabel', 'rob', 'rosie', 'john']\n",
    "name_list"
   ]
  },
  {
   "cell_type": "code",
   "execution_count": 31,
   "id": "8c2353e6",
   "metadata": {},
   "outputs": [
    {
     "name": "stdout",
     "output_type": "stream",
     "text": [
      "rob 3\n"
     ]
    }
   ],
   "source": [
    "for person in name_list:\n",
    "    if (person == 'rob'):\n",
    "        print(person, len(person))"
   ]
  },
  {
   "cell_type": "code",
   "execution_count": null,
   "id": "d55cf412",
   "metadata": {},
   "outputs": [],
   "source": [
    "x"
   ]
  },
  {
   "cell_type": "code",
   "execution_count": null,
   "id": "30f1d954",
   "metadata": {},
   "outputs": [],
   "source": [
    "1"
   ]
  },
  {
   "cell_type": "code",
   "execution_count": null,
   "id": "bbc300af",
   "metadata": {},
   "outputs": [],
   "source": []
  }
 ],
 "metadata": {
  "kernelspec": {
   "display_name": "Python 3",
   "language": "python",
   "name": "python3"
  },
  "language_info": {
   "codemirror_mode": {
    "name": "ipython",
    "version": 3
   },
   "file_extension": ".py",
   "mimetype": "text/x-python",
   "name": "python",
   "nbconvert_exporter": "python",
   "pygments_lexer": "ipython3",
   "version": "3.7.3"
  }
 },
 "nbformat": 4,
 "nbformat_minor": 5
}
